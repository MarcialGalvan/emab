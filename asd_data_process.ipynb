{
 "cells": [
  {
   "cell_type": "markdown",
   "metadata": {},
   "source": [
    "# Extraction, preprocessing and saving dataset\n",
    "\n",
    "Fron csv data, we extract, process and save the dataset\n"
   ]
  },
  {
   "cell_type": "code",
   "execution_count": 32,
   "metadata": {},
   "outputs": [],
   "source": [
    "import numpy as np\n",
    "import pandas as pd\n",
    "import matplotlib.pyplot as plt\n",
    "import visuals as vs"
   ]
  },
  {
   "cell_type": "code",
   "execution_count": 33,
   "metadata": {},
   "outputs": [],
   "source": [
    "#reading the csv (tsv) and returning selected data\n",
    "def extract_feature_vectors(path):\n",
    "    \n",
    "    cols = ['RecordingDate','[Age]Value','[AQ Range]Value','[Category]Value','[Gender]Value','RecordingDuration','RecordingResolution'\n",
    "    ,'RecordingTimestamp','EyeTrackerTimestamp','GazePointIndex','GazePointX (ADCSpx)','GazePointY (ADCSpx)'\n",
    "        ,'StudioEvent','StudioEventIndex','StrictAverageGazePointX (ADCSmm)','StrictAverageGazePointY (ADCSmm)' ]\n",
    "    data = pd.read_csv (path, sep = '\\t', usecols = cols)\n",
    "    features = data['RecordingTimestamp'] #T in ms. Our time Base\n",
    "    eventMarks = data['StudioEvent']\n",
    "    trackerTime = data['RecordingTimestamp']\n",
    "    #extracting positions with nan values due to tracking errors\n",
    "    \n",
    "    GazeX = np.array(data['GazePointX (ADCSpx)'])\n",
    "    GazeY = np.array(data['GazePointY (ADCSpx)'])    \n",
    "\n",
    "    events = data['StudioEventIndex']\n",
    "    return eventMarks,trackerTime,GazeX,GazeY\n"
   ]
  },
  {
   "cell_type": "code",
   "execution_count": 34,
   "metadata": {},
   "outputs": [],
   "source": [
    "def calculate_velocities_from_position( time, positionArray):\n",
    "    velocity = []\n",
    "    timeRescaled = []\n",
    "    time = [item for item in time]\n",
    "    for x in range(1,len(time)):\n",
    "        velocity.append((positionArray[x-1]-positionArray[x])/(time[x-1]-time[x]))\n",
    "        timeRescaled.append(x)\n",
    "    return np.array(velocity), np.array(timeRescaled)"
   ]
  },
  {
   "cell_type": "code",
   "execution_count": 39,
   "metadata": {},
   "outputs": [],
   "source": [
    "def save_vector_to_file(fileName, col1,col2):\n",
    "    path = 'register/'\n",
    "    outFile = open(path + fileName,'w')\n",
    "    outFile.write(\"time \\t value\\n\")\n",
    "    for x in range(len(col1)):\n",
    "        outFile.write(\"{0} {1}\\n\".format(col1[x],col2[x]))\n",
    "       # outFile.write('%10.10f %10.10f' %col1[x] %col2[x])\n",
    "        \n",
    "    outFile.close()\n",
    "    "
   ]
  },
  {
   "cell_type": "code",
   "execution_count": 217,
   "metadata": {},
   "outputs": [],
   "source": [
    "from scipy import signal as s\n",
    "import math \n",
    "def show_spectrogram(time, signal):\n",
    "    np.random.seed(52346234)\n",
    "    nfft = 50   \n",
    "    fs = 1.0/0.003332\n",
    "    fig, (ax1, ax2) = plt.subplots(ncols = 2)\n",
    "\n",
    "    ax1.plot(time, signal)\n",
    "    data,freqs,bins, im = ax2.specgram(signal, NFFT = nfft, Fs = fs, noverlap = nfft-10)\n",
    "    ax2.pcolormesh(bins, freqs, 10 * np.log10(data))\n",
    "    ax2.axis('tight')\n",
    "    plt.show()\n"
   ]
  },
  {
   "cell_type": "code",
   "execution_count": 166,
   "metadata": {},
   "outputs": [],
   "source": [
    "from scipy import signal as s\n",
    "def save_spectrogram(time, signal, datasetRawPath, imageNumber):\n",
    "    \n",
    "    fig,ax = plt.subplots(1)\n",
    "    fig.subplots_adjust(left=0,right=1,bottom=0,top=1)\n",
    "    ax.axis('off')\n",
    "    rate = 1.0/0.003332\n",
    "    pxx, freqs, bins, im = ax.specgram(signal, Fs=rate, noverlap=118, NFFT=128) \n",
    "    #pxx, freqs, bins, im = ax.specgram(signal, Fs=rate, noverlap=246, NFFT=256)# para el hd, pero se pierde calidad\n",
    "    ax.axis('off')\n",
    "    fig.savefig(datasetRawPath +'spec'+str(imageNumber)+\".jpg\", dpi=300, frameon='false')\n",
    "    #plt.show()\n",
    "    \n",
    "   "
   ]
  },
  {
   "cell_type": "code",
   "execution_count": 1,
   "metadata": {},
   "outputs": [],
   "source": [
    "def is_nan_free( vector):    \n",
    "    nan_mask = np.isnan(np.min(vector))\n",
    "    return not(nan_mask)\n",
    "    \n"
   ]
  },
  {
   "cell_type": "code",
   "execution_count": 2,
   "metadata": {},
   "outputs": [],
   "source": [
    "def save_visualpath_map( xVector,yVector,datasetPath, imageNumber):\n",
    "    #para las velocidades xVector = time, y Vector = velocity\n",
    "    plt.plot(xVector,yVector,'g-')\n",
    "    plt.xlim(-100,1250)\n",
    "    plt.ylim(-100,800)\n",
    "    plt.axis('off')\n",
    "    plt.savefig(datasetPath +'rp'+str(imageNumber)+\".jpg\", dpi=300, frameon='false')\n",
    "    plt.show()"
   ]
  },
  {
   "cell_type": "code",
   "execution_count": 162,
   "metadata": {},
   "outputs": [],
   "source": [
    "\"\"\"segmentation of the temporal gaze positiondata in images and crosses segment, process\n",
    "velocities, generate and save spectrograms as dataset.\n",
    "\"\"\"\n",
    "def extract_valid_features(eventMarks, trackerTime, GazeX, GazeY,numberIndex):\n",
    "    startIndex = np.where(eventMarks == 'MovieStart')\n",
    "    startIndex = np.array(startIndex)\n",
    "    stopIndex = np.where(eventMarks == 'MovieEnd')\n",
    "    trackerCountsPerSecond = 1000 #using RecordingTimestamp t in ms\n",
    "   # startSegmentTime = trackerTime[(startIndex[0]+1)]\n",
    "    startSegmentIndex=(startIndex[0][0])+1\n",
    "    showDataFigures = 0\n",
    "    base= numberIndex * 22\n",
    "    for x in range (0,22):\n",
    "        imageNumber= base+x\n",
    "        print(\"SEGMENTO \",x)\n",
    "        startSegmentTime = trackerTime[startSegmentIndex]\n",
    "        targetT=(startSegmentTime+(2*1000))        \n",
    "        endOfSegment = np.searchsorted(trackerTime, startSegmentTime+(2*1000))       \n",
    "        crossSegmentTime = trackerTime[startSegmentIndex:(endOfSegment+1)]        \n",
    "        posXCross = GazeX[startSegmentIndex:(endOfSegment+1)]\n",
    "        posYCross = GazeY[startSegmentIndex:(endOfSegment+1)]\n",
    "        \n",
    "        if (is_nan_free(posXCross) and (is_nan_free(posYCross))):            \n",
    "            \n",
    "            velX, timeX = calculate_velocities_from_position(crossSegmentTime, posXCross)\n",
    "            velY, timeY = calculate_velocities_from_position(crossSegmentTime, posYCross)\n",
    "    \n",
    "            if (showDataFigures == 1):\n",
    "                vs.plot_position_xy(\"cruz \"+str(x+1),posXCross,posYCross)\n",
    "                vs.plot_2vectors(\"cross X\",timeX,velX, posXCross[:len(posXCross)-1])\n",
    "                vs.plot_2vectors(\"cross Y\",timeY,velY,posYCross[:len(posYCross)-1])\n",
    "                rec_plot(velX,\"Cross vel X\", True)\n",
    "                rec_plot(velY,\"Cross vel Y\", True)\n",
    "                show_spectrogram(timeY,velY)\n",
    "                show_spectrogram(crossSegmentTime,posYCross)\n",
    "                show_spectrogram(timeX,velX)\n",
    "                show_spectrogram(crossSegmentTime,posXCross)\n",
    "            save_spectrogram(timeX, velX,\"dataset_raw_extended_hd/asd/cross/X/\",imageNumber)\n",
    "            save_spectrogram(timeY, velY,\"dataset_raw_extended_hd/asd/cross/Y/\",imageNumber)\n",
    "            #save_spectrogram(timeX, velX,\"dataset_raw_tania/td/cross/X/\",imageNumber)\n",
    "            #save_spectrogram(timeY, velY,\"dataset_raw_tania/td/cross/Y/\",imageNumber)\n",
    "            #save_rec_plot_combined(velX,velY,\"dataset_raw_rp_test/asd/cross/\",imageNumber)\n",
    "        else:\n",
    "            print(\"\\x1b[31m CROSS \",str(x),\" DATA CORRUPTED\"\"\\x1b[0m\")       \n",
    "         \n",
    "        startSegmentIndex = np.array(endOfSegment)+1\n",
    "        startSegmentTime = trackerTime[startSegmentIndex]\n",
    "        endOfSegment = np.searchsorted(trackerTime, startSegmentTime+(4*1000))\n",
    "        targetT=(startSegmentTime+(4*1000))\n",
    "               \n",
    "        imgTimeSegment = trackerTime[startSegmentIndex:(endOfSegment+1)]\n",
    "        posXImg = GazeX[startSegmentIndex:(endOfSegment+1)]\n",
    "        posYImg = GazeY[startSegmentIndex:(endOfSegment+1)]\n",
    "        #save_visualpath_map(posXImg,posYImg,\"dataset_raw_visualpath_test/td/\"+str(x+1)+\"/\",imageNumber )\n",
    "        if ( is_nan_free(posXImg) and (is_nan_free(posYImg))):            \n",
    "            \n",
    "            velX, timeX = calculate_velocities_from_position(imgTimeSegment,posXImg)\n",
    "            velY, timeY = calculate_velocities_from_position(imgTimeSegment,posYImg)\n",
    "            \n",
    "            if (showDataFigures == 1):\n",
    "                vs.plot_vector(\"exploration\"+str(x), posXImg, posYImg)\n",
    "                vs.plot_2vectors(\"velX and posX\", timeX,velX,posXImg )\n",
    "                show_spectrogram(timeX,velX)\n",
    "                show_spectrogram(imgTimeSegment,posXImg) \n",
    "                show_spectrogram(timeY,velY)\n",
    "                show_spectrogram(imgTimeSegment,posYImg)\n",
    "                rec_plot(velX,\"Img vel X\", True)\n",
    "                rec_plot(velY,\"Img vel Y\", True)\n",
    "            save_spectrogram(timeX, velX,\"dataset_raw_extended_hd/asd/images/X/\",imageNumber)\n",
    "            save_spectrogram(timeY, velY,\"dataset_raw_extended_hd/asd/images/Y/\",imageNumber)\n",
    "            #save_spectrogram(timeX,velX,\"dataset_raw_extended_test/asd/images/X/\",imageNumber)\n",
    "            #save_spectrogram(timeY,velY,\"dataset_raw_extended_test/asd/images/Y/\",imageNumber)\n",
    "            ##save_spectrogram(timeX,velX,\"dataset_raw_tania/td/images/X/\",imageNumber)\n",
    "            #save_spectrogram(timeY,velY,\"dataset_raw_tania/td/images/Y/\",imageNumber)\n",
    "            #save_rec_plot_combined(velX,velY,\"dataset_raw_rp_test/asd/images/\",imageNumber)\n",
    "            \n",
    "        else:\n",
    "            print(\"\\x1b[31m IMAGE \",str(x),\" DATA CORRUPTED\"\"\\x1b[0m\")\n",
    "   \n",
    "        \n",
    "        startSegmentIndex = endOfSegment+1"
   ]
  },
  {
   "cell_type": "markdown",
   "metadata": {},
   "source": [
    "# Read raw data folder and process content"
   ]
  },
  {
   "cell_type": "code",
   "execution_count": null,
   "metadata": {},
   "outputs": [],
   "source": [
    "from glob import glob\n",
    "\n",
    "# load filenames\n",
    "files = np.array(glob(\"raw_data_classified/asd/*\"))\n",
    "\n",
    "print(len(files))\n",
    "index= 0\n",
    "for file_path in files:\n",
    "    events,time,gazePosX,gazePosY = extract_feature_vectors(file_path)\n",
    "    #print(file_path)\n",
    "    extract_valid_features(events,time,gazePosX,gazePosY,index)\n",
    "    index = index+1"
   ]
  }
 ],
 "metadata": {
  "kernelspec": {
   "display_name": "Python 3",
   "language": "python",
   "name": "python3"
  },
  "language_info": {
   "codemirror_mode": {
    "name": "ipython",
    "version": 3
   },
   "file_extension": ".py",
   "mimetype": "text/x-python",
   "name": "python",
   "nbconvert_exporter": "python",
   "pygments_lexer": "ipython3",
   "version": "3.7.3"
  }
 },
 "nbformat": 4,
 "nbformat_minor": 2
}
