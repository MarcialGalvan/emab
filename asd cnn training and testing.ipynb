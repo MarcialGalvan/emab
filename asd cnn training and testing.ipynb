{
 "cells": [
  {
   "cell_type": "code",
   "execution_count": 1,
   "metadata": {},
   "outputs": [
    {
     "name": "stderr",
     "output_type": "stream",
     "text": [
      "Using TensorFlow backend.\n"
     ]
    }
   ],
   "source": [
    "import numpy as np\n",
    "from sklearn.model_selection import  train_test_split\n",
    "import matplotlib.pyplot as plt\n",
    "from glob import glob\n",
    "from keras.preprocessing.image import img_to_array\n",
    "import cv2\n",
    "import visuals as vs\n"
   ]
  },
  {
   "cell_type": "markdown",
   "metadata": {},
   "source": [
    "# Dataset train Load"
   ]
  },
  {
   "cell_type": "code",
   "execution_count": 2,
   "metadata": {},
   "outputs": [
    {
     "name": "stdout",
     "output_type": "stream",
     "text": [
      "asd subjects 35\n",
      "td subjects 177\n",
      "sujetos:  70\n"
     ]
    }
   ],
   "source": [
    "dataX = []\n",
    "dataY = []\n",
    "label = []\n",
    "\n",
    "imageDim = (64,64,1)\n",
    "  \n",
    "pathX = \"dataset_raw_extended/asd/cross/X/*\"\n",
    "pathY = \"dataset_raw_extended/asd/cross/Y/*\"\n",
    "asd_subjects = len(np.array(glob(pathX)))\n",
    "print(\"asd subjects\", asd_subjects)\n",
    "subjects_class = \"asd\"\n",
    "\n",
    "imagePathsX = np.array(glob(pathX))\n",
    "for path in imagePathsX:\n",
    "    image = cv2.imread(path)\n",
    "    image = cv2.resize(image,(imageDim[0],imageDim[1]))\n",
    "    image = cv2.cvtColor(image, cv2.COLOR_BGR2GRAY)\n",
    "    image = img_to_array(image)\n",
    "    dataX.append(image)\n",
    "    if (subjects_class == \"asd\"):\n",
    "        label.append([1,0])\n",
    "    else:\n",
    "        label.append([0,1])\n",
    "    \n",
    "imagePathsY = np.array(glob(pathY))\n",
    "for path in imagePathsX:\n",
    "    image = cv2.imread(path)\n",
    "    image = cv2.resize(image,(imageDim[0],imageDim[1]))\n",
    "    image = cv2.cvtColor(image, cv2.COLOR_BGR2GRAY)\n",
    "    image = img_to_array(image)\n",
    "    dataY.append(image)\n",
    "\n",
    "pathX = \"dataset_raw_extended/td/cross/X/*\"\n",
    "pathY = \"dataset_raw_extended/td/cross/Y/*\"\n",
    "print(\"td subjects\", len(np.array(glob(pathX))))\n",
    "subjects_class = \"td\"\n",
    "imagePathsX = np.array(glob(pathX))\n",
    "#for path in imagePathsX:\n",
    "for i in range(0,asd_subjects):    \n",
    "    path = imagePathsX[i]\n",
    "    image = cv2.imread(path)\n",
    "    image = cv2.resize(image,(imageDim[0],imageDim[1]))\n",
    "    image = cv2.cvtColor(image, cv2.COLOR_BGR2GRAY)\n",
    "    image = img_to_array(image)\n",
    "    dataX.append(image)\n",
    "    if (subjects_class == \"asd\"):\n",
    "        label.append([1,0])\n",
    "    else:\n",
    "        label.append([0,1])\n",
    "\n",
    "imagePathsY = np.array(glob(pathY))\n",
    "#for path in imagePathsX:\n",
    "for i in range(0,asd_subjects):    \n",
    "    path = imagePathsY[i]    \n",
    "    image = cv2.imread(path)\n",
    "    image = cv2.resize(image,(imageDim[0],imageDim[1]))\n",
    "    image = cv2.cvtColor(image, cv2.COLOR_BGR2GRAY)\n",
    "    image = img_to_array(image)\n",
    "    dataY.append(image)\n",
    "\n",
    "dataX = np.array(dataX)\n",
    "dataY = np.array(dataY)\n",
    "label = np.array(label)\n",
    "#reescalado de imagenes\n",
    "dataX = dataX.astype('float32')/255\n",
    "dataY = dataY.astype('float32')/255\n",
    "print(\"subjects: \",len(dataX))\n",
    "#Shuffle both data and label\n",
    "indices = np.arange(dataX.shape[0])\n",
    "np.random.shuffle(indices)\n",
    "dataX = dataX[indices]\n",
    "dataY = dataY[indices]\n",
    "label = label[indices]\n",
    "\n",
    "\n",
    "\n",
    "x_trainX = dataX\n",
    "x_trainY = dataY\n",
    "y_train = label\n",
    "\n",
    "cut = int(x_trainX.shape[0]*0.15)\n",
    "(x_trainX, x_validX) = x_trainX[cut:], x_trainX[:cut]\n",
    "(x_trainY, x_validY) = x_trainY[cut:], x_trainY[:cut]\n",
    "(y_train, y_valid) = y_train[cut:], y_train[:cut]\n"
   ]
  },
  {
   "cell_type": "markdown",
   "metadata": {},
   "source": [
    "# dataset test load"
   ]
  },
  {
   "cell_type": "code",
   "execution_count": 3,
   "metadata": {},
   "outputs": [
    {
     "name": "stdout",
     "output_type": "stream",
     "text": [
      "43\n",
      "sujetos:  50\n"
     ]
    }
   ],
   "source": [
    "dataX_test = []\n",
    "dataY_test = []\n",
    "label_test = []\n",
    "\n",
    "imagePaths = np.array(glob(\"dataset_raw_extended_test/asd/cross/X/*\"))\n",
    "for path in imagePaths:\n",
    "    image = cv2.imread(path)\n",
    "    image = cv2.resize(image,(imageDim[0],imageDim[1]))\n",
    "    image = cv2.cvtColor(image, cv2.COLOR_BGR2GRAY)\n",
    "    image = img_to_array(image)\n",
    "    dataX_test.append(image)\n",
    "    label_test.append([1,0])\n",
    "\n",
    "imagePaths = np.array(glob(\"dataset_raw_extended_test/asd/cross/Y/*\"))\n",
    "for path in imagePaths:\n",
    "    image = cv2.imread(path)\n",
    "    image = cv2.resize(image,(imageDim[0],imageDim[1]))\n",
    "    image = cv2.cvtColor(image, cv2.COLOR_BGR2GRAY)\n",
    "    image = img_to_array(image)\n",
    "    dataY_test.append(image)\n",
    "\n",
    "        \n",
    "imagePaths = np.array(glob(\"dataset_raw_extended_test/td/cross/X/*\"))\n",
    "print(len(imagePaths))\n",
    "n_tds = 42\n",
    "#for path in imagePaths:\n",
    "for i in range(0,n_tds):\n",
    "    path = imagePaths[i]    \n",
    "    image = cv2.imread(path)\n",
    "    image = cv2.resize(image,(imageDim[0],imageDim[1]))\n",
    "    image = cv2.cvtColor(image, cv2.COLOR_BGR2GRAY)\n",
    "    image = img_to_array(image)\n",
    "    dataX_test.append(image)\n",
    "    label_test.append([0,1])\n",
    "\n",
    "imagePaths = np.array(glob(\"dataset_raw_extended_test/td/cross/Y/*\"))\n",
    "#for path in imagePaths:\n",
    "for i in range(0,n_tds):\n",
    "    path = imagePaths[i]\n",
    "    image = cv2.imread(path)\n",
    "    image = cv2.resize(image,(imageDim[0],imageDim[1]))\n",
    "    image = cv2.cvtColor(image, cv2.COLOR_BGR2GRAY)\n",
    "    image = img_to_array(image)\n",
    "    dataY_test.append(image)\n",
    "                      \n",
    "\"\"\"\"\"\"\n",
    "print(\"sujetos: \",len(dataX_test))\n",
    "\n",
    "dataX_test = np.array(dataX_test)\n",
    "dataY_test = np.array(dataY_test)\n",
    "label_test = np.array(label_test)\n",
    "\n",
    "\n",
    "#reescalado de imagenes\n",
    "dataX_test = dataX_test.astype('float32')/255\n",
    "dataY_test = dataY_test.astype('float32')/255\n",
    "\"\"\"\n",
    "x_train = data[cut:]\n",
    "x_test = data[:cut]\n",
    "y_train = label[cut:]\n",
    "y_test = label[:cut]\n",
    "\"\"\"\n",
    "x_testX = dataX_test\n",
    "x_testY = dataY_test\n",
    "y_test = label_test"
   ]
  },
  {
   "cell_type": "markdown",
   "metadata": {},
   "source": [
    "# Benchmark \n",
    "\n",
    "There are not benchmarks for this problems, we will use a 1 layer cnn as it:\n",
    "\n",
    "* 1 conv2d 16 kernels 3x3\n",
    "* 1 maxpool\n",
    "* 1 flatten\n",
    "* 1 dense 2560\n",
    "* 1 softmax"
   ]
  },
  {
   "cell_type": "code",
   "execution_count": 250,
   "metadata": {},
   "outputs": [],
   "source": [
    "def create_1conv_layer( input_img):\n",
    "    mod = (Conv2D(filters = 16, kernel_size= 3, padding ='same', activation ='relu', kernel_initializer = RandomNormal(mean=0.0, stddev=0.05, seed=None), input_shape=(imageDim[0],imageDim[1],1)))(input_img)\n",
    "    mod = (MaxPooling2D(pool_size = 2))(mod)\n",
    "    mod = Dropout(0.1)(mod)    \n",
    "      \n",
    "    return mod\n",
    "    "
   ]
  },
  {
   "cell_type": "code",
   "execution_count": 252,
   "metadata": {},
   "outputs": [
    {
     "name": "stdout",
     "output_type": "stream",
     "text": [
      "__________________________________________________________________________________________________\n",
      "Layer (type)                    Output Shape         Param #     Connected to                     \n",
      "==================================================================================================\n",
      "input_58 (InputLayer)           (None, 64, 64, 1)    0                                            \n",
      "__________________________________________________________________________________________________\n",
      "input_59 (InputLayer)           (None, 64, 64, 1)    0                                            \n",
      "__________________________________________________________________________________________________\n",
      "conv2d_53 (Conv2D)              (None, 64, 64, 16)   160         input_58[0][0]                   \n",
      "__________________________________________________________________________________________________\n",
      "conv2d_54 (Conv2D)              (None, 64, 64, 16)   160         input_59[0][0]                   \n",
      "__________________________________________________________________________________________________\n",
      "max_pooling2d_53 (MaxPooling2D) (None, 32, 32, 16)   0           conv2d_53[0][0]                  \n",
      "__________________________________________________________________________________________________\n",
      "max_pooling2d_54 (MaxPooling2D) (None, 32, 32, 16)   0           conv2d_54[0][0]                  \n",
      "__________________________________________________________________________________________________\n",
      "dropout_78 (Dropout)            (None, 32, 32, 16)   0           max_pooling2d_53[0][0]           \n",
      "__________________________________________________________________________________________________\n",
      "dropout_79 (Dropout)            (None, 32, 32, 16)   0           max_pooling2d_54[0][0]           \n",
      "__________________________________________________________________________________________________\n",
      "concatenate_30 (Concatenate)    (None, 32, 32, 32)   0           dropout_78[0][0]                 \n",
      "                                                                 dropout_79[0][0]                 \n",
      "__________________________________________________________________________________________________\n",
      "flatten_29 (Flatten)            (None, 32768)        0           concatenate_30[0][0]             \n",
      "__________________________________________________________________________________________________\n",
      "dense_64 (Dense)                (None, 256)          8388864     flatten_29[0][0]                 \n",
      "__________________________________________________________________________________________________\n",
      "dropout_80 (Dropout)            (None, 256)          0           dense_64[0][0]                   \n",
      "__________________________________________________________________________________________________\n",
      "dense_65 (Dense)                (None, 2)            514         dropout_80[0][0]                 \n",
      "==================================================================================================\n",
      "Total params: 8,389,698\n",
      "Trainable params: 8,389,698\n",
      "Non-trainable params: 0\n",
      "__________________________________________________________________________________________________\n"
     ]
    }
   ],
   "source": [
    "from keras.layers import Conv2D, MaxPooling2D, GlobalAveragePooling2D,Concatenate, Activation, Input, Flatten,concatenate\n",
    "from keras.layers import Dropout, Flatten, Dense\n",
    "from keras.models import Sequential, Model\n",
    "from keras.utils import plot_model\n",
    "from keras.initializers import RandomNormal\n",
    "\n",
    "inputShape = (imageDim[0],imageDim[1],1)\n",
    "\n",
    "inputX = Input(shape = inputShape)\n",
    "inputX_model = create_1conv_layer(inputX)\n",
    "\n",
    "inputY = Input(shape = (imageDim[0],imageDim[1],1))\n",
    "inputY_model = create_1conv_layer(inputY)\n",
    "\n",
    "comb = concatenate([inputX_model,inputY_model])\n",
    "flat = Flatten()(comb)\n",
    "dense = Dense(256,activation = 'relu')(flat)\n",
    "dense = Dropout(0.1)(dense)\n",
    "output =Dense(2,activation = \"softmax\")(dense)\n",
    "\n",
    "benchmark_model = Model(inputs = [inputX, inputY], outputs = [output])\n",
    "benchmark_model.summary()"
   ]
  },
  {
   "cell_type": "code",
   "execution_count": 262,
   "metadata": {},
   "outputs": [],
   "source": [
    "import keras_metrics\n",
    "benchmark_model.compile (optimizer = 'SGD', loss ='categorical_crossentropy', metrics =[ keras_metrics.recall(label = 0)])"
   ]
  },
  {
   "cell_type": "markdown",
   "metadata": {},
   "source": [
    "# Training the benchmark"
   ]
  },
  {
   "cell_type": "code",
   "execution_count": 204,
   "metadata": {},
   "outputs": [],
   "source": [
    "benchmark_model.load_weights('saved_models/weights.best.from_scratch_dual_input_benchmark_model.hdf5')"
   ]
  },
  {
   "cell_type": "code",
   "execution_count": 263,
   "metadata": {
    "scrolled": true
   },
   "outputs": [
    {
     "name": "stdout",
     "output_type": "stream",
     "text": [
      "Train on 60 samples, validate on 10 samples\n",
      "Epoch 1/25\n",
      "60/60 [==============================] - 3s 43ms/step - loss: 0.0626 - recall: 1.0000 - val_loss: 0.4622 - val_recall: 1.0000\n",
      "\n",
      "Epoch 00001: val_loss improved from inf to 0.46220, saving model to saved_models/weights.best.from_scratch_dual_input_benchmark_model.hdf5\n",
      "Epoch 2/25\n",
      "60/60 [==============================] - 1s 20ms/step - loss: 0.0509 - recall: 1.0000 - val_loss: 0.4112 - val_recall: 1.0000\n",
      "\n",
      "Epoch 00002: val_loss improved from 0.46220 to 0.41118, saving model to saved_models/weights.best.from_scratch_dual_input_benchmark_model.hdf5\n",
      "Epoch 3/25\n",
      "60/60 [==============================] - 1s 19ms/step - loss: 0.0521 - recall: 1.0000 - val_loss: 0.4178 - val_recall: 1.0000\n",
      "\n",
      "Epoch 00003: val_loss did not improve from 0.41118\n",
      "Epoch 4/25\n",
      "60/60 [==============================] - 1s 20ms/step - loss: 0.0930 - recall: 1.0000 - val_loss: 0.4206 - val_recall: 1.0000\n",
      "\n",
      "Epoch 00004: val_loss did not improve from 0.41118\n",
      "Epoch 5/25\n",
      "60/60 [==============================] - 1s 19ms/step - loss: 0.0382 - recall: 1.0000 - val_loss: 0.3905 - val_recall: 1.0000\n",
      "\n",
      "Epoch 00005: val_loss improved from 0.41118 to 0.39052, saving model to saved_models/weights.best.from_scratch_dual_input_benchmark_model.hdf5\n",
      "Epoch 6/25\n",
      "60/60 [==============================] - 1s 19ms/step - loss: 0.0578 - recall: 1.0000 - val_loss: 0.3242 - val_recall: 1.0000\n",
      "\n",
      "Epoch 00006: val_loss improved from 0.39052 to 0.32419, saving model to saved_models/weights.best.from_scratch_dual_input_benchmark_model.hdf5\n",
      "Epoch 7/25\n",
      "60/60 [==============================] - 1s 20ms/step - loss: 0.0339 - recall: 1.0000 - val_loss: 0.3896 - val_recall: 1.0000\n",
      "\n",
      "Epoch 00007: val_loss did not improve from 0.32419\n",
      "Epoch 8/25\n",
      "60/60 [==============================] - 1s 19ms/step - loss: 0.0301 - recall: 1.0000 - val_loss: 0.4980 - val_recall: 1.0000\n",
      "\n",
      "Epoch 00008: val_loss did not improve from 0.32419\n",
      "Epoch 9/25\n",
      "60/60 [==============================] - 1s 20ms/step - loss: 0.0305 - recall: 1.0000 - val_loss: 0.3874 - val_recall: 1.0000\n",
      "\n",
      "Epoch 00009: val_loss did not improve from 0.32419\n",
      "Epoch 10/25\n",
      "60/60 [==============================] - 1s 20ms/step - loss: 0.0366 - recall: 1.0000 - val_loss: 0.4310 - val_recall: 1.0000\n",
      "\n",
      "Epoch 00010: val_loss did not improve from 0.32419\n",
      "Epoch 11/25\n",
      "60/60 [==============================] - 1s 19ms/step - loss: 0.0344 - recall: 1.0000 - val_loss: 0.4225 - val_recall: 1.0000\n",
      "\n",
      "Epoch 00011: val_loss did not improve from 0.32419\n",
      "Epoch 12/25\n",
      "60/60 [==============================] - 1s 20ms/step - loss: 0.0219 - recall: 1.0000 - val_loss: 0.4893 - val_recall: 1.0000\n",
      "\n",
      "Epoch 00012: val_loss did not improve from 0.32419\n",
      "Epoch 13/25\n",
      "60/60 [==============================] - 1s 19ms/step - loss: 0.0231 - recall: 1.0000 - val_loss: 0.5665 - val_recall: 1.0000\n",
      "\n",
      "Epoch 00013: val_loss did not improve from 0.32419\n",
      "Epoch 14/25\n",
      "60/60 [==============================] - 1s 20ms/step - loss: 0.0260 - recall: 1.0000 - val_loss: 0.4654 - val_recall: 1.0000\n",
      "\n",
      "Epoch 00014: val_loss did not improve from 0.32419\n",
      "Epoch 15/25\n",
      "60/60 [==============================] - 1s 19ms/step - loss: 0.0211 - recall: 1.0000 - val_loss: 0.4217 - val_recall: 1.0000\n",
      "\n",
      "Epoch 00015: val_loss did not improve from 0.32419\n",
      "Epoch 16/25\n",
      "60/60 [==============================] - 1s 20ms/step - loss: 0.0255 - recall: 1.0000 - val_loss: 0.5173 - val_recall: 1.0000\n",
      "\n",
      "Epoch 00016: val_loss did not improve from 0.32419\n",
      "Epoch 17/25\n",
      "60/60 [==============================] - 1s 19ms/step - loss: 0.0215 - recall: 1.0000 - val_loss: 0.4654 - val_recall: 1.0000\n",
      "\n",
      "Epoch 00017: val_loss did not improve from 0.32419\n",
      "Epoch 18/25\n",
      "60/60 [==============================] - 1s 20ms/step - loss: 0.0320 - recall: 1.0000 - val_loss: 0.6438 - val_recall: 1.0000\n",
      "\n",
      "Epoch 00018: val_loss did not improve from 0.32419\n",
      "Epoch 19/25\n",
      "60/60 [==============================] - 1s 20ms/step - loss: 0.0389 - recall: 1.0000 - val_loss: 0.5554 - val_recall: 1.0000\n",
      "\n",
      "Epoch 00019: val_loss did not improve from 0.32419\n",
      "Epoch 20/25\n",
      "60/60 [==============================] - 1s 19ms/step - loss: 0.0247 - recall: 1.0000 - val_loss: 0.5392 - val_recall: 1.0000\n",
      "\n",
      "Epoch 00020: val_loss did not improve from 0.32419\n",
      "Epoch 21/25\n",
      "60/60 [==============================] - 1s 19ms/step - loss: 0.0257 - recall: 1.0000 - val_loss: 0.5330 - val_recall: 1.0000\n",
      "\n",
      "Epoch 00021: val_loss did not improve from 0.32419\n",
      "Epoch 22/25\n",
      "60/60 [==============================] - 1s 20ms/step - loss: 0.0167 - recall: 1.0000 - val_loss: 0.4775 - val_recall: 1.0000\n",
      "\n",
      "Epoch 00022: val_loss did not improve from 0.32419\n",
      "Epoch 23/25\n",
      "60/60 [==============================] - 1s 19ms/step - loss: 0.0211 - recall: 1.0000 - val_loss: 0.5276 - val_recall: 1.0000\n",
      "\n",
      "Epoch 00023: val_loss did not improve from 0.32419\n",
      "Epoch 24/25\n",
      "60/60 [==============================] - 1s 19ms/step - loss: 0.0219 - recall: 1.0000 - val_loss: 0.3006 - val_recall: 1.0000\n",
      "\n",
      "Epoch 00024: val_loss improved from 0.32419 to 0.30063, saving model to saved_models/weights.best.from_scratch_dual_input_benchmark_model.hdf5\n",
      "Epoch 25/25\n",
      "60/60 [==============================] - 1s 20ms/step - loss: 0.0201 - recall: 1.0000 - val_loss: 0.3870 - val_recall: 1.0000\n",
      "\n",
      "Epoch 00025: val_loss did not improve from 0.30063\n"
     ]
    }
   ],
   "source": [
    "from keras.callbacks import ModelCheckpoint  \n",
    "\n",
    "epochs = 25\n",
    "\n",
    "train_tensors = [x_trainX, x_trainY]\n",
    "train_targets = y_train\n",
    "valid_tensors = [x_validX, x_validY]\n",
    "valid_targets = y_valid\n",
    "\n",
    "checkpointer = ModelCheckpoint(filepath='saved_models/weights.best.from_scratch_dual_input_benchmark_model.hdf5', \n",
    "                               verbose=1, save_best_only=True)\n",
    "\n",
    "history = benchmark_model.fit(train_tensors, train_targets, \n",
    "          validation_data=(valid_tensors, valid_targets),\n",
    "          epochs=epochs, batch_size=5, callbacks=[checkpointer], verbose=1)"
   ]
  },
  {
   "cell_type": "code",
   "execution_count": 215,
   "metadata": {},
   "outputs": [],
   "source": [
    "def show_benchmark_loss_evolution():\n",
    "    _, train_acc = benchmark_model.evaluate(train_tensors, train_targets, verbose=0)\n",
    "    _, test_acc = benchmark_model.evaluate(test_tensors, test_targets, verbose=0)\n",
    "    print('Train: %.3f, Test: %.3f' % (train_acc, test_acc))\n",
    "    # plot training history\n",
    "    plt.plot(history.history['loss'], label='train')\n",
    "    plt.plot(history.history['val_loss'], label='test')\n",
    "    plt.xlabel(\"iterations\")\n",
    "    plt.ylabel(\"loss\")\n",
    "    plt.legend()\n",
    "    plt.show()"
   ]
  },
  {
   "cell_type": "code",
   "execution_count": 264,
   "metadata": {
    "scrolled": false
   },
   "outputs": [
    {
     "name": "stdout",
     "output_type": "stream",
     "text": [
      "Train: 1.000, Test: 0.875\n"
     ]
    },
    {
     "data": {
      "image/png": "[encoded data removed]",
      "text/plain": [
       "<Figure size 432x288 with 1 Axes>"
      ]
     },
     "metadata": {
      "needs_background": "light"
     },
     "output_type": "display_data"
    }
   ],
   "source": [
    "show_benchmark_loss_evolution()"
   ]
  },
  {
   "cell_type": "markdown",
   "metadata": {},
   "source": [
    "# The Final cnn\n",
    "\n",
    "Constructed using keras funcional API\n",
    "\n",
    "* 2 inputs, with 3 convolutional layers each one( conv2d + relu + maxpool)\n",
    "* Concatenate both cnn´s\n",
    "* 1 dense relu 256\n",
    "* 1 dense softmax 2\n",
    "\n"
   ]
  },
  {
   "cell_type": "code",
   "execution_count": 7,
   "metadata": {},
   "outputs": [],
   "source": [
    "def create_conv_layers( input_img):\n",
    "    mod = (Conv2D(filters = 16, kernel_size= 3, padding ='same', activation ='relu', kernel_initializer = RandomNormal(mean=0.0, stddev=0.05, seed=None), input_shape=(imageDim[0],imageDim[1],1)))(input_img)\n",
    "    mod = (MaxPooling2D(pool_size = 2))(mod)\n",
    "    mod = Dropout(0.5)(mod)\n",
    "    \n",
    "    mod = (Conv2D(filters = 32, kernel_size= 3, padding ='same', activation ='relu',kernel_initializer = RandomNormal(mean=0.0, stddev=0.05, seed=None), input_shape=(imageDim[0],imageDim[1],1)))(mod)\n",
    "    mod = (MaxPooling2D(pool_size = 2))(mod)\n",
    "    mod = Dropout(0.5)(mod)\n",
    "    \n",
    "    mod = (Conv2D(filters = 64, kernel_size= 3, padding ='same', activation ='relu',kernel_initializer = RandomNormal(mean=0.0, stddev=0.05, seed=None), input_shape=(imageDim[0],imageDim[1],1)))(mod)\n",
    "    mod = (MaxPooling2D(pool_size = 2))(mod)\n",
    "    mod = Dropout(0.5)(mod)\n",
    "    \n",
    "    return mod\n",
    "    "
   ]
  },
  {
   "cell_type": "markdown",
   "metadata": {},
   "source": [
    "\"\"\"\n",
    "modelX = Sequential()\n",
    "modelX.add(Conv2D(filters = 16, kernel_size= 3, padding ='same',kernel_initializer = k.initializers.glorot_normal(seed=None), activation ='relu', input_shape=(256,256,1)))\n",
    "modelX.add(MaxPooling2D(pool_size = 2))\n",
    "modelX.add(Dropout (0.3))\n",
    "modelX.add(Conv2D(filters = 32, kernel_size = 3,padding = 'same',kernel_initializer = k.initializers.glorot_normal(seed=None), activation = 'relu'))\n",
    "modelX.add(MaxPooling2D(pool_size = 2))\n",
    "modelX.add(Dropout (0.3))\n",
    "\n",
    "modelY = Sequential()\n",
    "modelY.add(Conv2D(filters = 16, kernel_size= 3, padding ='same',kernel_initializer = k.initializers.glorot_normal(seed=None), activation ='relu', input_shape=(256,256,1)))\n",
    "modelY.add(MaxPooling2D(pool_size = 2))\n",
    "modelY.add(Dropout (0.3))\n",
    "modelY.add(Conv2D(filters = 32, kernel_size = 3,padding = 'same',kernel_initializer = k.initializers.glorot_normal(seed=None), activation = 'relu'))\n",
    "modelY.add(MaxPooling2D(pool_size = 2))\n",
    "modelY.add(Dropout (0.3))\n",
    "\n",
    "model = Sequential()\n",
    "model = Concatenate()([modelX, modelY])\n",
    "\n",
    "#model.add(Flatten())\n",
    "model = (Dense(256, activation = 'relu',kernel_initializer = k.initializers.glorot_normal(seed=None)))\n",
    "model = (Dropout(0.3))\n",
    "model = (Dense(2, activation = 'softmax'))\n",
    "\"\"\""
   ]
  },
  {
   "cell_type": "code",
   "execution_count": 46,
   "metadata": {},
   "outputs": [
    {
     "name": "stdout",
     "output_type": "stream",
     "text": [
      "__________________________________________________________________________________________________\n",
      "Layer (type)                    Output Shape         Param #     Connected to                     \n",
      "==================================================================================================\n",
      "input_10 (InputLayer)           (None, 64, 64, 1)    0                                            \n",
      "__________________________________________________________________________________________________\n",
      "input_11 (InputLayer)           (None, 64, 64, 1)    0                                            \n",
      "__________________________________________________________________________________________________\n",
      "conv2d_21 (Conv2D)              (None, 64, 64, 16)   160         input_10[0][0]                   \n",
      "__________________________________________________________________________________________________\n",
      "conv2d_24 (Conv2D)              (None, 64, 64, 16)   160         input_11[0][0]                   \n",
      "__________________________________________________________________________________________________\n",
      "max_pooling2d_21 (MaxPooling2D) (None, 32, 32, 16)   0           conv2d_21[0][0]                  \n",
      "__________________________________________________________________________________________________\n",
      "max_pooling2d_24 (MaxPooling2D) (None, 32, 32, 16)   0           conv2d_24[0][0]                  \n",
      "__________________________________________________________________________________________________\n",
      "dropout_25 (Dropout)            (None, 32, 32, 16)   0           max_pooling2d_21[0][0]           \n",
      "__________________________________________________________________________________________________\n",
      "dropout_28 (Dropout)            (None, 32, 32, 16)   0           max_pooling2d_24[0][0]           \n",
      "__________________________________________________________________________________________________\n",
      "conv2d_22 (Conv2D)              (None, 32, 32, 32)   4640        dropout_25[0][0]                 \n",
      "__________________________________________________________________________________________________\n",
      "conv2d_25 (Conv2D)              (None, 32, 32, 32)   4640        dropout_28[0][0]                 \n",
      "__________________________________________________________________________________________________\n",
      "max_pooling2d_22 (MaxPooling2D) (None, 16, 16, 32)   0           conv2d_22[0][0]                  \n",
      "__________________________________________________________________________________________________\n",
      "max_pooling2d_25 (MaxPooling2D) (None, 16, 16, 32)   0           conv2d_25[0][0]                  \n",
      "__________________________________________________________________________________________________\n",
      "dropout_26 (Dropout)            (None, 16, 16, 32)   0           max_pooling2d_22[0][0]           \n",
      "__________________________________________________________________________________________________\n",
      "dropout_29 (Dropout)            (None, 16, 16, 32)   0           max_pooling2d_25[0][0]           \n",
      "__________________________________________________________________________________________________\n",
      "conv2d_23 (Conv2D)              (None, 16, 16, 64)   18496       dropout_26[0][0]                 \n",
      "__________________________________________________________________________________________________\n",
      "conv2d_26 (Conv2D)              (None, 16, 16, 64)   18496       dropout_29[0][0]                 \n",
      "__________________________________________________________________________________________________\n",
      "max_pooling2d_23 (MaxPooling2D) (None, 8, 8, 64)     0           conv2d_23[0][0]                  \n",
      "__________________________________________________________________________________________________\n",
      "max_pooling2d_26 (MaxPooling2D) (None, 8, 8, 64)     0           conv2d_26[0][0]                  \n",
      "__________________________________________________________________________________________________\n",
      "dropout_27 (Dropout)            (None, 8, 8, 64)     0           max_pooling2d_23[0][0]           \n",
      "__________________________________________________________________________________________________\n",
      "dropout_30 (Dropout)            (None, 8, 8, 64)     0           max_pooling2d_26[0][0]           \n",
      "__________________________________________________________________________________________________\n",
      "concatenate_5 (Concatenate)     (None, 8, 8, 128)    0           dropout_27[0][0]                 \n",
      "                                                                 dropout_30[0][0]                 \n",
      "__________________________________________________________________________________________________\n",
      "flatten_5 (Flatten)             (None, 8192)         0           concatenate_5[0][0]              \n",
      "__________________________________________________________________________________________________\n",
      "dense_9 (Dense)                 (None, 256)          2097408     flatten_5[0][0]                  \n",
      "__________________________________________________________________________________________________\n",
      "dropout_31 (Dropout)            (None, 256)          0           dense_9[0][0]                    \n",
      "__________________________________________________________________________________________________\n",
      "dense_10 (Dense)                (None, 2)            514         dropout_31[0][0]                 \n",
      "==================================================================================================\n",
      "Total params: 2,144,514\n",
      "Trainable params: 2,144,514\n",
      "Non-trainable params: 0\n",
      "__________________________________________________________________________________________________\n"
     ]
    }
   ],
   "source": [
    "from keras.layers import Conv2D, MaxPooling2D, GlobalAveragePooling2D,Concatenate, Activation, Input, Flatten,concatenate\n",
    "from keras.layers import Dropout, Flatten, Dense\n",
    "from keras.models import Sequential, Model\n",
    "from keras.utils import plot_model\n",
    "from keras.initializers import RandomNormal\n",
    "\n",
    "inputShape = (imageDim[0],imageDim[1],1)\n",
    "\n",
    "inputX = Input(shape = inputShape)\n",
    "inputX_model = create_conv_layers(inputX)\n",
    "\n",
    "inputY = Input(shape = (imageDim[0],imageDim[1],1))\n",
    "inputY_model = create_conv_layers(inputY)\n",
    "\n",
    "comb = concatenate([inputX_model,inputY_model])\n",
    "flat = Flatten()(comb)\n",
    "dense = Dense(256,activation = 'relu')(flat)\n",
    "dense = Dropout(0.5)(dense)\n",
    "output =Dense(2,activation = \"softmax\")(dense)\n",
    "\n",
    "model = Model(inputs = [inputX, inputY], outputs = [output])\n",
    "model.summary()"
   ]
  },
  {
   "cell_type": "code",
   "execution_count": 47,
   "metadata": {},
   "outputs": [],
   "source": [
    "import keras_metrics\n",
    "model.compile (optimizer = 'Adam', loss ='categorical_crossentropy', metrics =[ keras_metrics.recall(label = 0)])"
   ]
  },
  {
   "cell_type": "code",
   "execution_count": 44,
   "metadata": {},
   "outputs": [
    {
     "ename": "KeyError",
     "evalue": "\"Unable to open object (object 'max_pooling2d_3' doesn't exist)\"",
     "output_type": "error",
     "traceback": [
      "\u001b[1;31m---------------------------------------------------------------------------\u001b[0m",
      "\u001b[1;31mKeyError\u001b[0m                                  Traceback (most recent call last)",
      "\u001b[1;32m<ipython-input-44-b9cf9229b8f0>\u001b[0m in \u001b[0;36m<module>\u001b[1;34m\u001b[0m\n\u001b[1;32m----> 1\u001b[1;33m \u001b[0mmodel\u001b[0m\u001b[1;33m.\u001b[0m\u001b[0mload_weights\u001b[0m\u001b[1;33m(\u001b[0m\u001b[1;34m'saved_models/weights.best.from_scratch_dual_input.hdf5'\u001b[0m\u001b[1;33m)\u001b[0m\u001b[1;33m\u001b[0m\u001b[1;33m\u001b[0m\u001b[0m\n\u001b[0m",
      "\u001b[1;32m~\\Anaconda3\\lib\\site-packages\\keras\\engine\\network.py\u001b[0m in \u001b[0;36mload_weights\u001b[1;34m(self, filepath, by_name, skip_mismatch, reshape)\u001b[0m\n\u001b[0;32m   1164\u001b[0m             \u001b[1;32melse\u001b[0m\u001b[1;33m:\u001b[0m\u001b[1;33m\u001b[0m\u001b[1;33m\u001b[0m\u001b[0m\n\u001b[0;32m   1165\u001b[0m                 saving.load_weights_from_hdf5_group(\n\u001b[1;32m-> 1166\u001b[1;33m                     f, self.layers, reshape=reshape)\n\u001b[0m\u001b[0;32m   1167\u001b[0m \u001b[1;33m\u001b[0m\u001b[0m\n\u001b[0;32m   1168\u001b[0m     \u001b[1;32mdef\u001b[0m \u001b[0m_updated_config\u001b[0m\u001b[1;33m(\u001b[0m\u001b[0mself\u001b[0m\u001b[1;33m)\u001b[0m\u001b[1;33m:\u001b[0m\u001b[1;33m\u001b[0m\u001b[1;33m\u001b[0m\u001b[0m\n",
      "\u001b[1;32m~\\Anaconda3\\lib\\site-packages\\keras\\engine\\saving.py\u001b[0m in \u001b[0;36mload_weights_from_hdf5_group\u001b[1;34m(f, layers, reshape)\u001b[0m\n\u001b[0;32m   1019\u001b[0m     \u001b[0mfiltered_layer_names\u001b[0m \u001b[1;33m=\u001b[0m \u001b[1;33m[\u001b[0m\u001b[1;33m]\u001b[0m\u001b[1;33m\u001b[0m\u001b[1;33m\u001b[0m\u001b[0m\n\u001b[0;32m   1020\u001b[0m     \u001b[1;32mfor\u001b[0m \u001b[0mname\u001b[0m \u001b[1;32min\u001b[0m \u001b[0mlayer_names\u001b[0m\u001b[1;33m:\u001b[0m\u001b[1;33m\u001b[0m\u001b[1;33m\u001b[0m\u001b[0m\n\u001b[1;32m-> 1021\u001b[1;33m         \u001b[0mg\u001b[0m \u001b[1;33m=\u001b[0m \u001b[0mf\u001b[0m\u001b[1;33m[\u001b[0m\u001b[0mname\u001b[0m\u001b[1;33m]\u001b[0m\u001b[1;33m\u001b[0m\u001b[1;33m\u001b[0m\u001b[0m\n\u001b[0m\u001b[0;32m   1022\u001b[0m         \u001b[0mweight_names\u001b[0m \u001b[1;33m=\u001b[0m \u001b[0mload_attributes_from_hdf5_group\u001b[0m\u001b[1;33m(\u001b[0m\u001b[0mg\u001b[0m\u001b[1;33m,\u001b[0m \u001b[1;34m'weight_names'\u001b[0m\u001b[1;33m)\u001b[0m\u001b[1;33m\u001b[0m\u001b[1;33m\u001b[0m\u001b[0m\n\u001b[0;32m   1023\u001b[0m         \u001b[1;32mif\u001b[0m \u001b[0mweight_names\u001b[0m\u001b[1;33m:\u001b[0m\u001b[1;33m\u001b[0m\u001b[1;33m\u001b[0m\u001b[0m\n",
      "\u001b[1;32mh5py\\_objects.pyx\u001b[0m in \u001b[0;36mh5py._objects.with_phil.wrapper\u001b[1;34m()\u001b[0m\n",
      "\u001b[1;32mh5py\\_objects.pyx\u001b[0m in \u001b[0;36mh5py._objects.with_phil.wrapper\u001b[1;34m()\u001b[0m\n",
      "\u001b[1;32m~\\Anaconda3\\lib\\site-packages\\h5py\\_hl\\group.py\u001b[0m in \u001b[0;36m__getitem__\u001b[1;34m(self, name)\u001b[0m\n\u001b[0;32m    260\u001b[0m                 \u001b[1;32mraise\u001b[0m \u001b[0mValueError\u001b[0m\u001b[1;33m(\u001b[0m\u001b[1;34m\"Invalid HDF5 object reference\"\u001b[0m\u001b[1;33m)\u001b[0m\u001b[1;33m\u001b[0m\u001b[1;33m\u001b[0m\u001b[0m\n\u001b[0;32m    261\u001b[0m         \u001b[1;32melse\u001b[0m\u001b[1;33m:\u001b[0m\u001b[1;33m\u001b[0m\u001b[1;33m\u001b[0m\u001b[0m\n\u001b[1;32m--> 262\u001b[1;33m             \u001b[0moid\u001b[0m \u001b[1;33m=\u001b[0m \u001b[0mh5o\u001b[0m\u001b[1;33m.\u001b[0m\u001b[0mopen\u001b[0m\u001b[1;33m(\u001b[0m\u001b[0mself\u001b[0m\u001b[1;33m.\u001b[0m\u001b[0mid\u001b[0m\u001b[1;33m,\u001b[0m \u001b[0mself\u001b[0m\u001b[1;33m.\u001b[0m\u001b[0m_e\u001b[0m\u001b[1;33m(\u001b[0m\u001b[0mname\u001b[0m\u001b[1;33m)\u001b[0m\u001b[1;33m,\u001b[0m \u001b[0mlapl\u001b[0m\u001b[1;33m=\u001b[0m\u001b[0mself\u001b[0m\u001b[1;33m.\u001b[0m\u001b[0m_lapl\u001b[0m\u001b[1;33m)\u001b[0m\u001b[1;33m\u001b[0m\u001b[1;33m\u001b[0m\u001b[0m\n\u001b[0m\u001b[0;32m    263\u001b[0m \u001b[1;33m\u001b[0m\u001b[0m\n\u001b[0;32m    264\u001b[0m         \u001b[0motype\u001b[0m \u001b[1;33m=\u001b[0m \u001b[0mh5i\u001b[0m\u001b[1;33m.\u001b[0m\u001b[0mget_type\u001b[0m\u001b[1;33m(\u001b[0m\u001b[0moid\u001b[0m\u001b[1;33m)\u001b[0m\u001b[1;33m\u001b[0m\u001b[1;33m\u001b[0m\u001b[0m\n",
      "\u001b[1;32mh5py\\_objects.pyx\u001b[0m in \u001b[0;36mh5py._objects.with_phil.wrapper\u001b[1;34m()\u001b[0m\n",
      "\u001b[1;32mh5py\\_objects.pyx\u001b[0m in \u001b[0;36mh5py._objects.with_phil.wrapper\u001b[1;34m()\u001b[0m\n",
      "\u001b[1;32mh5py\\h5o.pyx\u001b[0m in \u001b[0;36mh5py.h5o.open\u001b[1;34m()\u001b[0m\n",
      "\u001b[1;31mKeyError\u001b[0m: \"Unable to open object (object 'max_pooling2d_3' doesn't exist)\""
     ]
    }
   ],
   "source": [
    "model.load_weights('saved_models/weights.best.from_scratch_dual_input.hdf5')"
   ]
  },
  {
   "cell_type": "code",
   "execution_count": 29,
   "metadata": {
    "scrolled": true
   },
   "outputs": [
    {
     "name": "stdout",
     "output_type": "stream",
     "text": [
      "WARNING:tensorflow:From C:\\Users\\igalvans\\Anaconda3\\lib\\site-packages\\tensorflow\\python\\ops\\math_ops.py:3066: to_int32 (from tensorflow.python.ops.math_ops) is deprecated and will be removed in a future version.\n",
      "Instructions for updating:\n",
      "Use tf.cast instead.\n",
      "Train on 60 samples, validate on 10 samples\n",
      "Epoch 1/25\n",
      "60/60 [==============================] - 2s 32ms/step - loss: 0.6346 - recall: 0.7742 - val_loss: 0.7265 - val_recall: 1.0000\n",
      "\n",
      "Epoch 00001: val_loss improved from inf to 0.72649, saving model to saved_models/weights.best.from_scratch_dual_input.hdf5\n"
     ]
    },
    {
     "ename": "KeyboardInterrupt",
     "evalue": "",
     "output_type": "error",
     "traceback": [
      "\u001b[1;31m---------------------------------------------------------------------------\u001b[0m",
      "\u001b[1;31mKeyboardInterrupt\u001b[0m                         Traceback (most recent call last)",
      "\u001b[1;32m<ipython-input-29-bd086355f7d3>\u001b[0m in \u001b[0;36m<module>\u001b[1;34m\u001b[0m\n\u001b[0;32m     13\u001b[0m history = model.fit(train_tensors, train_targets, \n\u001b[0;32m     14\u001b[0m           \u001b[0mvalidation_data\u001b[0m\u001b[1;33m=\u001b[0m\u001b[1;33m(\u001b[0m\u001b[0mvalid_tensors\u001b[0m\u001b[1;33m,\u001b[0m \u001b[0mvalid_targets\u001b[0m\u001b[1;33m)\u001b[0m\u001b[1;33m,\u001b[0m\u001b[1;33m\u001b[0m\u001b[1;33m\u001b[0m\u001b[0m\n\u001b[1;32m---> 15\u001b[1;33m           epochs=epochs, batch_size=5, callbacks=[checkpointer], verbose=1)\n\u001b[0m",
      "\u001b[1;32m~\\Anaconda3\\lib\\site-packages\\keras\\engine\\training.py\u001b[0m in \u001b[0;36mfit\u001b[1;34m(self, x, y, batch_size, epochs, verbose, callbacks, validation_split, validation_data, shuffle, class_weight, sample_weight, initial_epoch, steps_per_epoch, validation_steps, **kwargs)\u001b[0m\n\u001b[0;32m   1037\u001b[0m                                         \u001b[0minitial_epoch\u001b[0m\u001b[1;33m=\u001b[0m\u001b[0minitial_epoch\u001b[0m\u001b[1;33m,\u001b[0m\u001b[1;33m\u001b[0m\u001b[1;33m\u001b[0m\u001b[0m\n\u001b[0;32m   1038\u001b[0m                                         \u001b[0msteps_per_epoch\u001b[0m\u001b[1;33m=\u001b[0m\u001b[0msteps_per_epoch\u001b[0m\u001b[1;33m,\u001b[0m\u001b[1;33m\u001b[0m\u001b[1;33m\u001b[0m\u001b[0m\n\u001b[1;32m-> 1039\u001b[1;33m                                         validation_steps=validation_steps)\n\u001b[0m\u001b[0;32m   1040\u001b[0m \u001b[1;33m\u001b[0m\u001b[0m\n\u001b[0;32m   1041\u001b[0m     def evaluate(self, x=None, y=None,\n",
      "\u001b[1;32m~\\Anaconda3\\lib\\site-packages\\keras\\engine\\training_arrays.py\u001b[0m in \u001b[0;36mfit_loop\u001b[1;34m(model, f, ins, out_labels, batch_size, epochs, verbose, callbacks, val_f, val_ins, shuffle, callback_metrics, initial_epoch, steps_per_epoch, validation_steps)\u001b[0m\n\u001b[0;32m    215\u001b[0m                         \u001b[1;32mfor\u001b[0m \u001b[0ml\u001b[0m\u001b[1;33m,\u001b[0m \u001b[0mo\u001b[0m \u001b[1;32min\u001b[0m \u001b[0mzip\u001b[0m\u001b[1;33m(\u001b[0m\u001b[0mout_labels\u001b[0m\u001b[1;33m,\u001b[0m \u001b[0mval_outs\u001b[0m\u001b[1;33m)\u001b[0m\u001b[1;33m:\u001b[0m\u001b[1;33m\u001b[0m\u001b[1;33m\u001b[0m\u001b[0m\n\u001b[0;32m    216\u001b[0m                             \u001b[0mepoch_logs\u001b[0m\u001b[1;33m[\u001b[0m\u001b[1;34m'val_'\u001b[0m \u001b[1;33m+\u001b[0m \u001b[0ml\u001b[0m\u001b[1;33m]\u001b[0m \u001b[1;33m=\u001b[0m \u001b[0mo\u001b[0m\u001b[1;33m\u001b[0m\u001b[1;33m\u001b[0m\u001b[0m\n\u001b[1;32m--> 217\u001b[1;33m         \u001b[0mcallbacks\u001b[0m\u001b[1;33m.\u001b[0m\u001b[0mon_epoch_end\u001b[0m\u001b[1;33m(\u001b[0m\u001b[0mepoch\u001b[0m\u001b[1;33m,\u001b[0m \u001b[0mepoch_logs\u001b[0m\u001b[1;33m)\u001b[0m\u001b[1;33m\u001b[0m\u001b[1;33m\u001b[0m\u001b[0m\n\u001b[0m\u001b[0;32m    218\u001b[0m         \u001b[1;32mif\u001b[0m \u001b[0mcallback_model\u001b[0m\u001b[1;33m.\u001b[0m\u001b[0mstop_training\u001b[0m\u001b[1;33m:\u001b[0m\u001b[1;33m\u001b[0m\u001b[1;33m\u001b[0m\u001b[0m\n\u001b[0;32m    219\u001b[0m             \u001b[1;32mbreak\u001b[0m\u001b[1;33m\u001b[0m\u001b[1;33m\u001b[0m\u001b[0m\n",
      "\u001b[1;32m~\\Anaconda3\\lib\\site-packages\\keras\\callbacks.py\u001b[0m in \u001b[0;36mon_epoch_end\u001b[1;34m(self, epoch, logs)\u001b[0m\n\u001b[0;32m     77\u001b[0m         \u001b[0mlogs\u001b[0m \u001b[1;33m=\u001b[0m \u001b[0mlogs\u001b[0m \u001b[1;32mor\u001b[0m \u001b[1;33m{\u001b[0m\u001b[1;33m}\u001b[0m\u001b[1;33m\u001b[0m\u001b[1;33m\u001b[0m\u001b[0m\n\u001b[0;32m     78\u001b[0m         \u001b[1;32mfor\u001b[0m \u001b[0mcallback\u001b[0m \u001b[1;32min\u001b[0m \u001b[0mself\u001b[0m\u001b[1;33m.\u001b[0m\u001b[0mcallbacks\u001b[0m\u001b[1;33m:\u001b[0m\u001b[1;33m\u001b[0m\u001b[1;33m\u001b[0m\u001b[0m\n\u001b[1;32m---> 79\u001b[1;33m             \u001b[0mcallback\u001b[0m\u001b[1;33m.\u001b[0m\u001b[0mon_epoch_end\u001b[0m\u001b[1;33m(\u001b[0m\u001b[0mepoch\u001b[0m\u001b[1;33m,\u001b[0m \u001b[0mlogs\u001b[0m\u001b[1;33m)\u001b[0m\u001b[1;33m\u001b[0m\u001b[1;33m\u001b[0m\u001b[0m\n\u001b[0m\u001b[0;32m     80\u001b[0m \u001b[1;33m\u001b[0m\u001b[0m\n\u001b[0;32m     81\u001b[0m     \u001b[1;32mdef\u001b[0m \u001b[0mon_batch_begin\u001b[0m\u001b[1;33m(\u001b[0m\u001b[0mself\u001b[0m\u001b[1;33m,\u001b[0m \u001b[0mbatch\u001b[0m\u001b[1;33m,\u001b[0m \u001b[0mlogs\u001b[0m\u001b[1;33m=\u001b[0m\u001b[1;32mNone\u001b[0m\u001b[1;33m)\u001b[0m\u001b[1;33m:\u001b[0m\u001b[1;33m\u001b[0m\u001b[1;33m\u001b[0m\u001b[0m\n",
      "\u001b[1;32m~\\Anaconda3\\lib\\site-packages\\keras\\callbacks.py\u001b[0m in \u001b[0;36mon_epoch_end\u001b[1;34m(self, epoch, logs)\u001b[0m\n\u001b[0;32m    444\u001b[0m                             \u001b[0mself\u001b[0m\u001b[1;33m.\u001b[0m\u001b[0mmodel\u001b[0m\u001b[1;33m.\u001b[0m\u001b[0msave_weights\u001b[0m\u001b[1;33m(\u001b[0m\u001b[0mfilepath\u001b[0m\u001b[1;33m,\u001b[0m \u001b[0moverwrite\u001b[0m\u001b[1;33m=\u001b[0m\u001b[1;32mTrue\u001b[0m\u001b[1;33m)\u001b[0m\u001b[1;33m\u001b[0m\u001b[1;33m\u001b[0m\u001b[0m\n\u001b[0;32m    445\u001b[0m                         \u001b[1;32melse\u001b[0m\u001b[1;33m:\u001b[0m\u001b[1;33m\u001b[0m\u001b[1;33m\u001b[0m\u001b[0m\n\u001b[1;32m--> 446\u001b[1;33m                             \u001b[0mself\u001b[0m\u001b[1;33m.\u001b[0m\u001b[0mmodel\u001b[0m\u001b[1;33m.\u001b[0m\u001b[0msave\u001b[0m\u001b[1;33m(\u001b[0m\u001b[0mfilepath\u001b[0m\u001b[1;33m,\u001b[0m \u001b[0moverwrite\u001b[0m\u001b[1;33m=\u001b[0m\u001b[1;32mTrue\u001b[0m\u001b[1;33m)\u001b[0m\u001b[1;33m\u001b[0m\u001b[1;33m\u001b[0m\u001b[0m\n\u001b[0m\u001b[0;32m    447\u001b[0m                     \u001b[1;32melse\u001b[0m\u001b[1;33m:\u001b[0m\u001b[1;33m\u001b[0m\u001b[1;33m\u001b[0m\u001b[0m\n\u001b[0;32m    448\u001b[0m                         \u001b[1;32mif\u001b[0m \u001b[0mself\u001b[0m\u001b[1;33m.\u001b[0m\u001b[0mverbose\u001b[0m \u001b[1;33m>\u001b[0m \u001b[1;36m0\u001b[0m\u001b[1;33m:\u001b[0m\u001b[1;33m\u001b[0m\u001b[1;33m\u001b[0m\u001b[0m\n",
      "\u001b[1;32m~\\Anaconda3\\lib\\site-packages\\keras\\engine\\network.py\u001b[0m in \u001b[0;36msave\u001b[1;34m(self, filepath, overwrite, include_optimizer)\u001b[0m\n\u001b[0;32m   1088\u001b[0m             \u001b[1;32mraise\u001b[0m \u001b[0mNotImplementedError\u001b[0m\u001b[1;33m\u001b[0m\u001b[1;33m\u001b[0m\u001b[0m\n\u001b[0;32m   1089\u001b[0m         \u001b[1;32mfrom\u001b[0m \u001b[1;33m.\u001b[0m\u001b[1;33m.\u001b[0m\u001b[0mmodels\u001b[0m \u001b[1;32mimport\u001b[0m \u001b[0msave_model\u001b[0m\u001b[1;33m\u001b[0m\u001b[1;33m\u001b[0m\u001b[0m\n\u001b[1;32m-> 1090\u001b[1;33m         \u001b[0msave_model\u001b[0m\u001b[1;33m(\u001b[0m\u001b[0mself\u001b[0m\u001b[1;33m,\u001b[0m \u001b[0mfilepath\u001b[0m\u001b[1;33m,\u001b[0m \u001b[0moverwrite\u001b[0m\u001b[1;33m,\u001b[0m \u001b[0minclude_optimizer\u001b[0m\u001b[1;33m)\u001b[0m\u001b[1;33m\u001b[0m\u001b[1;33m\u001b[0m\u001b[0m\n\u001b[0m\u001b[0;32m   1091\u001b[0m \u001b[1;33m\u001b[0m\u001b[0m\n\u001b[0;32m   1092\u001b[0m     \u001b[1;32mdef\u001b[0m \u001b[0msave_weights\u001b[0m\u001b[1;33m(\u001b[0m\u001b[0mself\u001b[0m\u001b[1;33m,\u001b[0m \u001b[0mfilepath\u001b[0m\u001b[1;33m,\u001b[0m \u001b[0moverwrite\u001b[0m\u001b[1;33m=\u001b[0m\u001b[1;32mTrue\u001b[0m\u001b[1;33m)\u001b[0m\u001b[1;33m:\u001b[0m\u001b[1;33m\u001b[0m\u001b[1;33m\u001b[0m\u001b[0m\n",
      "\u001b[1;32m~\\Anaconda3\\lib\\site-packages\\keras\\engine\\saving.py\u001b[0m in \u001b[0;36msave_model\u001b[1;34m(model, filepath, overwrite, include_optimizer)\u001b[0m\n\u001b[0;32m    380\u001b[0m \u001b[1;33m\u001b[0m\u001b[0m\n\u001b[0;32m    381\u001b[0m     \u001b[1;32mtry\u001b[0m\u001b[1;33m:\u001b[0m\u001b[1;33m\u001b[0m\u001b[1;33m\u001b[0m\u001b[0m\n\u001b[1;32m--> 382\u001b[1;33m         \u001b[0m_serialize_model\u001b[0m\u001b[1;33m(\u001b[0m\u001b[0mmodel\u001b[0m\u001b[1;33m,\u001b[0m \u001b[0mf\u001b[0m\u001b[1;33m,\u001b[0m \u001b[0minclude_optimizer\u001b[0m\u001b[1;33m)\u001b[0m\u001b[1;33m\u001b[0m\u001b[1;33m\u001b[0m\u001b[0m\n\u001b[0m\u001b[0;32m    383\u001b[0m     \u001b[1;32mfinally\u001b[0m\u001b[1;33m:\u001b[0m\u001b[1;33m\u001b[0m\u001b[1;33m\u001b[0m\u001b[0m\n\u001b[0;32m    384\u001b[0m         \u001b[1;32mif\u001b[0m \u001b[0mopened_new_file\u001b[0m\u001b[1;33m:\u001b[0m\u001b[1;33m\u001b[0m\u001b[1;33m\u001b[0m\u001b[0m\n",
      "\u001b[1;32m~\\Anaconda3\\lib\\site-packages\\keras\\engine\\saving.py\u001b[0m in \u001b[0;36m_serialize_model\u001b[1;34m(model, f, include_optimizer)\u001b[0m\n\u001b[0;32m     95\u001b[0m         \u001b[0mlayer_group\u001b[0m \u001b[1;33m=\u001b[0m \u001b[0mmodel_weights_group\u001b[0m\u001b[1;33m[\u001b[0m\u001b[0mlayer\u001b[0m\u001b[1;33m.\u001b[0m\u001b[0mname\u001b[0m\u001b[1;33m]\u001b[0m\u001b[1;33m\u001b[0m\u001b[1;33m\u001b[0m\u001b[0m\n\u001b[0;32m     96\u001b[0m         \u001b[0msymbolic_weights\u001b[0m \u001b[1;33m=\u001b[0m \u001b[0mlayer\u001b[0m\u001b[1;33m.\u001b[0m\u001b[0mweights\u001b[0m\u001b[1;33m\u001b[0m\u001b[1;33m\u001b[0m\u001b[0m\n\u001b[1;32m---> 97\u001b[1;33m         \u001b[0mweight_values\u001b[0m \u001b[1;33m=\u001b[0m \u001b[0mK\u001b[0m\u001b[1;33m.\u001b[0m\u001b[0mbatch_get_value\u001b[0m\u001b[1;33m(\u001b[0m\u001b[0msymbolic_weights\u001b[0m\u001b[1;33m)\u001b[0m\u001b[1;33m\u001b[0m\u001b[1;33m\u001b[0m\u001b[0m\n\u001b[0m\u001b[0;32m     98\u001b[0m         \u001b[0mweight_names\u001b[0m \u001b[1;33m=\u001b[0m \u001b[1;33m[\u001b[0m\u001b[1;33m]\u001b[0m\u001b[1;33m\u001b[0m\u001b[1;33m\u001b[0m\u001b[0m\n\u001b[0;32m     99\u001b[0m         \u001b[1;32mfor\u001b[0m \u001b[0mi\u001b[0m\u001b[1;33m,\u001b[0m \u001b[1;33m(\u001b[0m\u001b[0mw\u001b[0m\u001b[1;33m,\u001b[0m \u001b[0mval\u001b[0m\u001b[1;33m)\u001b[0m \u001b[1;32min\u001b[0m \u001b[0menumerate\u001b[0m\u001b[1;33m(\u001b[0m\u001b[0mzip\u001b[0m\u001b[1;33m(\u001b[0m\u001b[0msymbolic_weights\u001b[0m\u001b[1;33m,\u001b[0m \u001b[0mweight_values\u001b[0m\u001b[1;33m)\u001b[0m\u001b[1;33m)\u001b[0m\u001b[1;33m:\u001b[0m\u001b[1;33m\u001b[0m\u001b[1;33m\u001b[0m\u001b[0m\n",
      "\u001b[1;32m~\\Anaconda3\\lib\\site-packages\\keras\\backend\\tensorflow_backend.py\u001b[0m in \u001b[0;36mbatch_get_value\u001b[1;34m(ops)\u001b[0m\n\u001b[0;32m   2418\u001b[0m     \"\"\"\n\u001b[0;32m   2419\u001b[0m     \u001b[1;32mif\u001b[0m \u001b[0mops\u001b[0m\u001b[1;33m:\u001b[0m\u001b[1;33m\u001b[0m\u001b[1;33m\u001b[0m\u001b[0m\n\u001b[1;32m-> 2420\u001b[1;33m         \u001b[1;32mreturn\u001b[0m \u001b[0mget_session\u001b[0m\u001b[1;33m(\u001b[0m\u001b[1;33m)\u001b[0m\u001b[1;33m.\u001b[0m\u001b[0mrun\u001b[0m\u001b[1;33m(\u001b[0m\u001b[0mops\u001b[0m\u001b[1;33m)\u001b[0m\u001b[1;33m\u001b[0m\u001b[1;33m\u001b[0m\u001b[0m\n\u001b[0m\u001b[0;32m   2421\u001b[0m     \u001b[1;32melse\u001b[0m\u001b[1;33m:\u001b[0m\u001b[1;33m\u001b[0m\u001b[1;33m\u001b[0m\u001b[0m\n\u001b[0;32m   2422\u001b[0m         \u001b[1;32mreturn\u001b[0m \u001b[1;33m[\u001b[0m\u001b[1;33m]\u001b[0m\u001b[1;33m\u001b[0m\u001b[1;33m\u001b[0m\u001b[0m\n",
      "\u001b[1;32m~\\Anaconda3\\lib\\site-packages\\tensorflow\\python\\client\\session.py\u001b[0m in \u001b[0;36mrun\u001b[1;34m(self, fetches, feed_dict, options, run_metadata)\u001b[0m\n\u001b[0;32m    927\u001b[0m     \u001b[1;32mtry\u001b[0m\u001b[1;33m:\u001b[0m\u001b[1;33m\u001b[0m\u001b[1;33m\u001b[0m\u001b[0m\n\u001b[0;32m    928\u001b[0m       result = self._run(None, fetches, feed_dict, options_ptr,\n\u001b[1;32m--> 929\u001b[1;33m                          run_metadata_ptr)\n\u001b[0m\u001b[0;32m    930\u001b[0m       \u001b[1;32mif\u001b[0m \u001b[0mrun_metadata\u001b[0m\u001b[1;33m:\u001b[0m\u001b[1;33m\u001b[0m\u001b[1;33m\u001b[0m\u001b[0m\n\u001b[0;32m    931\u001b[0m         \u001b[0mproto_data\u001b[0m \u001b[1;33m=\u001b[0m \u001b[0mtf_session\u001b[0m\u001b[1;33m.\u001b[0m\u001b[0mTF_GetBuffer\u001b[0m\u001b[1;33m(\u001b[0m\u001b[0mrun_metadata_ptr\u001b[0m\u001b[1;33m)\u001b[0m\u001b[1;33m\u001b[0m\u001b[1;33m\u001b[0m\u001b[0m\n",
      "\u001b[1;32m~\\Anaconda3\\lib\\site-packages\\tensorflow\\python\\client\\session.py\u001b[0m in \u001b[0;36m_run\u001b[1;34m(self, handle, fetches, feed_dict, options, run_metadata)\u001b[0m\n\u001b[0;32m   1150\u001b[0m     \u001b[1;32mif\u001b[0m \u001b[0mfinal_fetches\u001b[0m \u001b[1;32mor\u001b[0m \u001b[0mfinal_targets\u001b[0m \u001b[1;32mor\u001b[0m \u001b[1;33m(\u001b[0m\u001b[0mhandle\u001b[0m \u001b[1;32mand\u001b[0m \u001b[0mfeed_dict_tensor\u001b[0m\u001b[1;33m)\u001b[0m\u001b[1;33m:\u001b[0m\u001b[1;33m\u001b[0m\u001b[1;33m\u001b[0m\u001b[0m\n\u001b[0;32m   1151\u001b[0m       results = self._do_run(handle, final_targets, final_fetches,\n\u001b[1;32m-> 1152\u001b[1;33m                              feed_dict_tensor, options, run_metadata)\n\u001b[0m\u001b[0;32m   1153\u001b[0m     \u001b[1;32melse\u001b[0m\u001b[1;33m:\u001b[0m\u001b[1;33m\u001b[0m\u001b[1;33m\u001b[0m\u001b[0m\n\u001b[0;32m   1154\u001b[0m       \u001b[0mresults\u001b[0m \u001b[1;33m=\u001b[0m \u001b[1;33m[\u001b[0m\u001b[1;33m]\u001b[0m\u001b[1;33m\u001b[0m\u001b[1;33m\u001b[0m\u001b[0m\n",
      "\u001b[1;32m~\\Anaconda3\\lib\\site-packages\\tensorflow\\python\\client\\session.py\u001b[0m in \u001b[0;36m_do_run\u001b[1;34m(self, handle, target_list, fetch_list, feed_dict, options, run_metadata)\u001b[0m\n\u001b[0;32m   1326\u001b[0m     \u001b[1;32mif\u001b[0m \u001b[0mhandle\u001b[0m \u001b[1;32mis\u001b[0m \u001b[1;32mNone\u001b[0m\u001b[1;33m:\u001b[0m\u001b[1;33m\u001b[0m\u001b[1;33m\u001b[0m\u001b[0m\n\u001b[0;32m   1327\u001b[0m       return self._do_call(_run_fn, feeds, fetches, targets, options,\n\u001b[1;32m-> 1328\u001b[1;33m                            run_metadata)\n\u001b[0m\u001b[0;32m   1329\u001b[0m     \u001b[1;32melse\u001b[0m\u001b[1;33m:\u001b[0m\u001b[1;33m\u001b[0m\u001b[1;33m\u001b[0m\u001b[0m\n\u001b[0;32m   1330\u001b[0m       \u001b[1;32mreturn\u001b[0m \u001b[0mself\u001b[0m\u001b[1;33m.\u001b[0m\u001b[0m_do_call\u001b[0m\u001b[1;33m(\u001b[0m\u001b[0m_prun_fn\u001b[0m\u001b[1;33m,\u001b[0m \u001b[0mhandle\u001b[0m\u001b[1;33m,\u001b[0m \u001b[0mfeeds\u001b[0m\u001b[1;33m,\u001b[0m \u001b[0mfetches\u001b[0m\u001b[1;33m)\u001b[0m\u001b[1;33m\u001b[0m\u001b[1;33m\u001b[0m\u001b[0m\n",
      "\u001b[1;32m~\\Anaconda3\\lib\\site-packages\\tensorflow\\python\\client\\session.py\u001b[0m in \u001b[0;36m_do_call\u001b[1;34m(self, fn, *args)\u001b[0m\n\u001b[0;32m   1332\u001b[0m   \u001b[1;32mdef\u001b[0m \u001b[0m_do_call\u001b[0m\u001b[1;33m(\u001b[0m\u001b[0mself\u001b[0m\u001b[1;33m,\u001b[0m \u001b[0mfn\u001b[0m\u001b[1;33m,\u001b[0m \u001b[1;33m*\u001b[0m\u001b[0margs\u001b[0m\u001b[1;33m)\u001b[0m\u001b[1;33m:\u001b[0m\u001b[1;33m\u001b[0m\u001b[1;33m\u001b[0m\u001b[0m\n\u001b[0;32m   1333\u001b[0m     \u001b[1;32mtry\u001b[0m\u001b[1;33m:\u001b[0m\u001b[1;33m\u001b[0m\u001b[1;33m\u001b[0m\u001b[0m\n\u001b[1;32m-> 1334\u001b[1;33m       \u001b[1;32mreturn\u001b[0m \u001b[0mfn\u001b[0m\u001b[1;33m(\u001b[0m\u001b[1;33m*\u001b[0m\u001b[0margs\u001b[0m\u001b[1;33m)\u001b[0m\u001b[1;33m\u001b[0m\u001b[1;33m\u001b[0m\u001b[0m\n\u001b[0m\u001b[0;32m   1335\u001b[0m     \u001b[1;32mexcept\u001b[0m \u001b[0merrors\u001b[0m\u001b[1;33m.\u001b[0m\u001b[0mOpError\u001b[0m \u001b[1;32mas\u001b[0m \u001b[0me\u001b[0m\u001b[1;33m:\u001b[0m\u001b[1;33m\u001b[0m\u001b[1;33m\u001b[0m\u001b[0m\n\u001b[0;32m   1336\u001b[0m       \u001b[0mmessage\u001b[0m \u001b[1;33m=\u001b[0m \u001b[0mcompat\u001b[0m\u001b[1;33m.\u001b[0m\u001b[0mas_text\u001b[0m\u001b[1;33m(\u001b[0m\u001b[0me\u001b[0m\u001b[1;33m.\u001b[0m\u001b[0mmessage\u001b[0m\u001b[1;33m)\u001b[0m\u001b[1;33m\u001b[0m\u001b[1;33m\u001b[0m\u001b[0m\n",
      "\u001b[1;32m~\\Anaconda3\\lib\\site-packages\\tensorflow\\python\\client\\session.py\u001b[0m in \u001b[0;36m_run_fn\u001b[1;34m(feed_dict, fetch_list, target_list, options, run_metadata)\u001b[0m\n\u001b[0;32m   1317\u001b[0m       \u001b[0mself\u001b[0m\u001b[1;33m.\u001b[0m\u001b[0m_extend_graph\u001b[0m\u001b[1;33m(\u001b[0m\u001b[1;33m)\u001b[0m\u001b[1;33m\u001b[0m\u001b[1;33m\u001b[0m\u001b[0m\n\u001b[0;32m   1318\u001b[0m       return self._call_tf_sessionrun(\n\u001b[1;32m-> 1319\u001b[1;33m           options, feed_dict, fetch_list, target_list, run_metadata)\n\u001b[0m\u001b[0;32m   1320\u001b[0m \u001b[1;33m\u001b[0m\u001b[0m\n\u001b[0;32m   1321\u001b[0m     \u001b[1;32mdef\u001b[0m \u001b[0m_prun_fn\u001b[0m\u001b[1;33m(\u001b[0m\u001b[0mhandle\u001b[0m\u001b[1;33m,\u001b[0m \u001b[0mfeed_dict\u001b[0m\u001b[1;33m,\u001b[0m \u001b[0mfetch_list\u001b[0m\u001b[1;33m)\u001b[0m\u001b[1;33m:\u001b[0m\u001b[1;33m\u001b[0m\u001b[1;33m\u001b[0m\u001b[0m\n",
      "\u001b[1;32m~\\Anaconda3\\lib\\site-packages\\tensorflow\\python\\client\\session.py\u001b[0m in \u001b[0;36m_call_tf_sessionrun\u001b[1;34m(self, options, feed_dict, fetch_list, target_list, run_metadata)\u001b[0m\n\u001b[0;32m   1405\u001b[0m     return tf_session.TF_SessionRun_wrapper(\n\u001b[0;32m   1406\u001b[0m         \u001b[0mself\u001b[0m\u001b[1;33m.\u001b[0m\u001b[0m_session\u001b[0m\u001b[1;33m,\u001b[0m \u001b[0moptions\u001b[0m\u001b[1;33m,\u001b[0m \u001b[0mfeed_dict\u001b[0m\u001b[1;33m,\u001b[0m \u001b[0mfetch_list\u001b[0m\u001b[1;33m,\u001b[0m \u001b[0mtarget_list\u001b[0m\u001b[1;33m,\u001b[0m\u001b[1;33m\u001b[0m\u001b[1;33m\u001b[0m\u001b[0m\n\u001b[1;32m-> 1407\u001b[1;33m         run_metadata)\n\u001b[0m\u001b[0;32m   1408\u001b[0m \u001b[1;33m\u001b[0m\u001b[0m\n\u001b[0;32m   1409\u001b[0m   \u001b[1;32mdef\u001b[0m \u001b[0m_call_tf_sessionprun\u001b[0m\u001b[1;33m(\u001b[0m\u001b[0mself\u001b[0m\u001b[1;33m,\u001b[0m \u001b[0mhandle\u001b[0m\u001b[1;33m,\u001b[0m \u001b[0mfeed_dict\u001b[0m\u001b[1;33m,\u001b[0m \u001b[0mfetch_list\u001b[0m\u001b[1;33m)\u001b[0m\u001b[1;33m:\u001b[0m\u001b[1;33m\u001b[0m\u001b[1;33m\u001b[0m\u001b[0m\n",
      "\u001b[1;31mKeyboardInterrupt\u001b[0m: "
     ]
    }
   ],
   "source": [
    "from keras.callbacks import ModelCheckpoint  \n",
    "\n",
    "epochs = 25\n",
    "\n",
    "train_tensors = [x_trainX, x_trainY]\n",
    "train_targets = y_train\n",
    "valid_tensors = [x_validX, x_validY]\n",
    "valid_targets = y_valid\n",
    "\n",
    "checkpointer = ModelCheckpoint(filepath='saved_models/weights.best.from_scratch_dual_input.hdf5', \n",
    "                               verbose=1, save_best_only=True)\n",
    "\n",
    "history = model.fit(train_tensors, train_targets, \n",
    "          validation_data=(valid_tensors, valid_targets),\n",
    "          epochs=epochs, batch_size=5, callbacks=[checkpointer], verbose=1)"
   ]
  },
  {
   "cell_type": "code",
   "execution_count": 65,
   "metadata": {},
   "outputs": [],
   "source": [
    "def show_loss_evolution():\n",
    "    _, train_acc = model.evaluate(train_tensors, train_targets, verbose=0)\n",
    "    _, test_acc = model.evaluate(test_tensors, test_targets, verbose=0)\n",
    "    print('Train: %.3f, Test: %.3f' % (train_acc, test_acc))\n",
    "    # plot training history\n",
    "    plt.plot(history.history['loss'], label='train')\n",
    "    plt.plot(history.history['val_loss'], label='test')\n",
    "    plt.xlabel(\"iterations\")\n",
    "    plt.ylabel(\"loss\")\n",
    "    plt.legend()\n",
    "    plt.show()"
   ]
  },
  {
   "cell_type": "code",
   "execution_count": 64,
   "metadata": {
    "scrolled": false
   },
   "outputs": [
    {
     "name": "stdout",
     "output_type": "stream",
     "text": [
      "Train: 1.000, Test: 0.875\n"
     ]
    },
    {
     "data": {
      "image/png": "[encoded data removed]",
      "text/plain": [
       "<Figure size 432x288 with 1 Axes>"
      ]
     },
     "metadata": {
      "needs_background": "light"
     },
     "output_type": "display_data"
    }
   ],
   "source": [
    "show_loss_evolution()"
   ]
  },
  {
   "cell_type": "markdown",
   "metadata": {},
   "source": [
    "# Testing the result"
   ]
  },
  {
   "cell_type": "code",
   "execution_count": 37,
   "metadata": {},
   "outputs": [],
   "source": [
    "model.load_weights('saved_models/weights.best.from_scratch_dual_input_final_training.hdf5')\n",
    "#model.load_weights('saved_models/weights.best.from_scratch_dual_input.hdf5')"
   ]
  },
  {
   "cell_type": "code",
   "execution_count": 38,
   "metadata": {
    "scrolled": true
   },
   "outputs": [
    {
     "name": "stdout",
     "output_type": "stream",
     "text": [
      "[0 0 0 0 0 1 0 0 1 1 1 1 1 1 1 1 1 1 1 1 1 1 1 1 1 1 1 1 1 1 1 1 1 1 1 1 1\n",
      " 0 1 1 1 0 1 1 1 0 1 1 1 1]\n",
      "0\n",
      "Test accuracy: 92.0000%\n"
     ]
    }
   ],
   "source": [
    "test_tensors = [x_testX, x_testY]\n",
    "test_targets = y_test\n",
    "asd_predictions = model.predict(test_tensors)\n",
    "pred = np.argmax(asd_predictions, axis = 1)\n",
    "print(pred)\n",
    "print(np.argmax(np.array(test_targets)))\n",
    "\n",
    "# report test accuracy\n",
    "\n",
    "test_accuracy = 100*np.sum(np.array(pred)==np.argmax(test_targets, axis=1))/len(asd_predictions)\n",
    "print('Test accuracy: %.4f%%' % test_accuracy)"
   ]
  },
  {
   "cell_type": "markdown",
   "metadata": {},
   "source": [
    "# Metrics "
   ]
  },
  {
   "cell_type": "code",
   "execution_count": 27,
   "metadata": {
    "scrolled": true
   },
   "outputs": [
    {
     "name": "stdout",
     "output_type": "stream",
     "text": [
      "test labels:  [0 0 0 0 0 0 0 0 1 1 1 1 1 1 1 1 1 1 1 1 1 1 1 1 1 1 1 1 1 1 1 1 1 1 1 1 1\n",
      " 1 1 1 1 1 1 1 1 1 1 1 1 1]\n",
      "pred labels:  [0 0 0 0 0 1 0 0 1 1 1 1 1 1 1 1 1 1 1 1 1 1 1 1 1 1 1 1 1 1 1 1 1 1 1 1 1\n",
      " 0 1 1 1 0 1 1 1 0 1 1 1 1]\n",
      "Accuracy 0.92\n",
      "Precision 0.975\n",
      "Recall 0.9285714285714286\n",
      "F1 score 0.951219512195122\n",
      "Confusion Matrix \n",
      " [[ 7  1]\n",
      " [ 3 39]]\n",
      "classification report\n",
      "                precision    recall  f1-score   support\n",
      "\n",
      "           0       0.70      0.88      0.78         8\n",
      "           1       0.97      0.93      0.95        42\n",
      "\n",
      "   micro avg       0.92      0.92      0.92        50\n",
      "   macro avg       0.84      0.90      0.86        50\n",
      "weighted avg       0.93      0.92      0.92        50\n",
      "\n"
     ]
    }
   ],
   "source": [
    "from sklearn.metrics import precision_score, recall_score, accuracy_score, confusion_matrix, f1_score, confusion_matrix,classification_report\n",
    "#test = np.array([x for x,y in test_targets])\n",
    "test = np.argmax(test_targets, axis = 1)\n",
    "#print((test_targets))\n",
    "print(\"test labels: \",test)\n",
    "print(\"pred labels: \",pred )\n",
    "print(\"Accuracy\", accuracy_score(test,pred))\n",
    "print(\"Precision\", precision_score(test,pred))\n",
    "print(\"Recall\", recall_score(test,pred))\n",
    "print(\"F1 score\", f1_score(test,pred))\n",
    "print(\"Confusion Matrix \\n\", confusion_matrix(test,pred))\n",
    "print(\"classification report\\n \",classification_report(test,pred))\n"
   ]
  },
  {
   "cell_type": "markdown",
   "metadata": {},
   "source": [
    "# ROC curve"
   ]
  },
  {
   "cell_type": "code",
   "execution_count": 24,
   "metadata": {},
   "outputs": [
    {
     "name": "stderr",
     "output_type": "stream",
     "text": [
      "No handles with labels found to put in legend.\n"
     ]
    },
    {
     "name": "stdout",
     "output_type": "stream",
     "text": [
      "[0.    0.125 0.375 0.375 0.625 0.625 0.875 0.875 1.    1.   ] [0.         0.         0.         0.02380952 0.02380952 0.07142857\n",
      " 0.07142857 0.0952381  0.0952381  1.        ]\n"
     ]
    },
    {
     "data": {
      "image/png": "[encoded data removed]",
      "text/plain": [
       "<Figure size 432x288 with 1 Axes>"
      ]
     },
     "metadata": {
      "needs_background": "light"
     },
     "output_type": "display_data"
    }
   ],
   "source": [
    "import numpy as np\n",
    "from sklearn import metrics\n",
    "y = test\n",
    "scores = np.array([x for x,y in asd_predictions])\n",
    "test.ravel()\n",
    "fpr, tpr, thresholds = metrics.roc_curve(y, scores)\n",
    "print(fpr,tpr)\n",
    "plt.plot(tpr,fpr)\n",
    "plt.plot([0, 1], [0, 1], color='navy', lw=2, linestyle='--')\n",
    "plt.xlim([-0.01, 1.0])\n",
    "plt.ylim([0.0, 1.05])\n",
    "plt.xlabel('False Positive Rate')\n",
    "plt.ylabel('True Positive Rate')\n",
    "plt.title('Receiver operating characteristic ')\n",
    "plt.legend(loc=\"lower right\")\n",
    "plt.show()\n",
    "\n",
    "\n"
   ]
  },
  {
   "cell_type": "markdown",
   "metadata": {},
   "source": [
    "# Testing the benchmark model"
   ]
  },
  {
   "cell_type": "code",
   "execution_count": 265,
   "metadata": {},
   "outputs": [],
   "source": [
    "benchmark_model.load_weights('saved_models/weights.best.from_scratch_dual_input_benchmark_model_reference.hdf5')\n",
    "#model.load_weights('saved_models/weights.best.from_scratch_dual_input_benchmark_model.hdf5')"
   ]
  },
  {
   "cell_type": "code",
   "execution_count": 266,
   "metadata": {
    "scrolled": true
   },
   "outputs": [
    {
     "name": "stdout",
     "output_type": "stream",
     "text": [
      "[1 0 0 0 0 1 1 0 1 1 0 1 1 1 1 1 1 1 1 1 1 1 1 1 1 1 1 1 1 1 1 1 1 1 1 1 1\n",
      " 0 1 1 1 0 1 1 1 1 1 1 1 1]\n",
      "0\n",
      "Test accuracy: 88.0000%\n"
     ]
    }
   ],
   "source": [
    "test_tensors = [x_testX, x_testY]\n",
    "test_targets = y_test\n",
    "asd_predictions = benchmark_model.predict(test_tensors)\n",
    "pred = np.argmax(asd_predictions, axis = 1)\n",
    "print(pred)\n",
    "print(np.argmax(np.array(test_targets)))\n",
    "\n",
    "# report test accuracy\n",
    "\n",
    "test_accuracy = 100*np.sum(np.array(pred)==np.argmax(test_targets, axis=1))/len(asd_predictions)\n",
    "print('Test accuracy: %.4f%%' % test_accuracy)"
   ]
  },
  {
   "cell_type": "markdown",
   "metadata": {},
   "source": [
    "# Metrics of the benchmark"
   ]
  },
  {
   "cell_type": "code",
   "execution_count": 267,
   "metadata": {
    "scrolled": true
   },
   "outputs": [
    {
     "name": "stdout",
     "output_type": "stream",
     "text": [
      "test labels:  [0 0 0 0 0 0 0 0 1 1 1 1 1 1 1 1 1 1 1 1 1 1 1 1 1 1 1 1 1 1 1 1 1 1 1 1 1\n",
      " 1 1 1 1 1 1 1 1 1 1 1 1 1]\n",
      "pred labels:  [1 0 0 0 0 1 1 0 1 1 0 1 1 1 1 1 1 1 1 1 1 1 1 1 1 1 1 1 1 1 1 1 1 1 1 1 1\n",
      " 0 1 1 1 0 1 1 1 1 1 1 1 1]\n",
      "Accuracy 0.88\n",
      "Precision 0.9285714285714286\n",
      "Recall 0.9285714285714286\n",
      "F1 score 0.9285714285714286\n",
      "Confusion Matrix \n",
      " [[ 5  3]\n",
      " [ 3 39]]\n",
      "classification report\n",
      "                precision    recall  f1-score   support\n",
      "\n",
      "           0       0.62      0.62      0.62         8\n",
      "           1       0.93      0.93      0.93        42\n",
      "\n",
      "   micro avg       0.88      0.88      0.88        50\n",
      "   macro avg       0.78      0.78      0.78        50\n",
      "weighted avg       0.88      0.88      0.88        50\n",
      "\n"
     ]
    }
   ],
   "source": [
    "from sklearn.metrics import precision_score, recall_score, accuracy_score, confusion_matrix, f1_score, confusion_matrix,classification_report\n",
    "#test = np.array([x for x,y in test_targets])\n",
    "test = np.argmax(test_targets, axis = 1)\n",
    "#print((test_targets))\n",
    "print(\"test labels: \",test)\n",
    "print(\"pred labels: \",pred )\n",
    "print(\"Accuracy\", accuracy_score(test,pred))\n",
    "print(\"Precision\", precision_score(test,pred))\n",
    "print(\"Recall\", recall_score(test,pred))\n",
    "print(\"F1 score\", f1_score(test,pred))\n",
    "print(\"Confusion Matrix \\n\", confusion_matrix(test,pred))\n",
    "print(\"classification report\\n \",classification_report(test,pred))\n"
   ]
  },
  {
   "cell_type": "markdown",
   "metadata": {},
   "source": [
    "# ROC curve of benchmark"
   ]
  },
  {
   "cell_type": "code",
   "execution_count": 181,
   "metadata": {},
   "outputs": [
    {
     "name": "stderr",
     "output_type": "stream",
     "text": [
      "No handles with labels found to put in legend.\n"
     ]
    },
    {
     "name": "stdout",
     "output_type": "stream",
     "text": [
      "[0.         0.03225806 1.         1.        ] [0. 0. 0. 1.]\n"
     ]
    },
    {
     "data": {
      "image/png": "[encoded data removed]",
      "text/plain": [
       "<Figure size 432x288 with 1 Axes>"
      ]
     },
     "metadata": {
      "needs_background": "light"
     },
     "output_type": "display_data"
    }
   ],
   "source": [
    "import numpy as np\n",
    "from sklearn import metrics\n",
    "y = test\n",
    "scores = np.array([x for x,y in asd_predictions])\n",
    "test.ravel()\n",
    "fpr, tpr, thresholds = metrics.roc_curve(y, scores)\n",
    "print(fpr,tpr)\n",
    "plt.plot(tpr,fpr)\n",
    "plt.plot([0, 1], [0, 1], color='navy', lw=2, linestyle='--')\n",
    "plt.xlim([-0.01, 1.0])\n",
    "plt.ylim([0.0, 1.05])\n",
    "plt.xlabel('False Positive Rate')\n",
    "plt.ylabel('True Positive Rate')\n",
    "plt.title('Receiver operating characteristic ')\n",
    "plt.legend(loc=\"lower right\")\n",
    "plt.show()\n",
    "\n",
    "\n"
   ]
  },
  {
   "cell_type": "code",
   "execution_count": null,
   "metadata": {},
   "outputs": [],
   "source": []
  }
 ],
 "metadata": {
  "kernelspec": {
   "display_name": "Python 3",
   "language": "python",
   "name": "python3"
  },
  "language_info": {
   "codemirror_mode": {
    "name": "ipython",
    "version": 3
   },
   "file_extension": ".py",
   "mimetype": "text/x-python",
   "name": "python",
   "nbconvert_exporter": "python",
   "pygments_lexer": "ipython3",
   "version": "3.7.3"
  }
 },
 "nbformat": 4,
 "nbformat_minor": 2
}
